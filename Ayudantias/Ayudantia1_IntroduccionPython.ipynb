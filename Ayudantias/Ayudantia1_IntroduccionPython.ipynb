{
  "cells": [
    {
      "cell_type": "markdown",
      "metadata": {
        "id": "view-in-github",
        "colab_type": "text"
      },
      "source": [
        "<a href=\"https://colab.research.google.com/github/joseeegalaz/Ayudantias-IIQ3402-2025-1/blob/main/Ayudantias/Ayudantia1_IntroduccionPython.ipynb\" target=\"_parent\"><img src=\"https://colab.research.google.com/assets/colab-badge.svg\" alt=\"Open In Colab\"/></a>"
      ]
    },
    {
      "cell_type": "markdown",
      "metadata": {
        "id": "BzWHtoHb7nXq"
      },
      "source": [
        "# Introducción a Python\n",
        "\n",
        "Para abrirlo en Google colab:\n",
        "<a target=\"_blank\" href=\"https://colab.research.google.com/github/SysBioengLab/IIQ3402-Statistical-Design/blob/main/Ayudantias/Ayudantia1_IntroduccionPython.ipynb\">\n",
        "  <img src=\"https://colab.research.google.com/assets/colab-badge.svg\" alt=\"Open In Colab\"/>\n",
        "</a>\n",
        "\n",
        "En esta ayudantía veremos los principales conceptos de `python`. Estos conocimientos serán clave para poder entender las siguientes ayudantías, tareas y clases (pero si lo quieren hacer a mano también pueden).\n",
        "\n",
        "Este tutorial puede ser complementado con:\n",
        "- https://www.geeksforgeeks.org/introduction-to-python/\n",
        "- https://www.youtube.com/watch?v=kqtD5dpn9C8\n",
        "- https://www.youtube.com/watch?v=eWRfhZUzrAc\n",
        "- https://www.youtube.com/playlist?list=PL0Zuz27SZ-6MQri81d012LwP5jvFZ_scc\n",
        "\n",
        "Para este curso, utilizaremos principalmente Google Colab, así que pueden ignorar temas de instalación en su computador si quieren.\n",
        "\n",
        "El curso no irá en temas complejos, pero es bueno que sepan lo básico así les facilita poder seguir los materiales educativos. Sumado a que python es un gran lenguaje.\n"
      ]
    },
    {
      "cell_type": "markdown",
      "metadata": {
        "id": "9mAGGjiwVhV9"
      },
      "source": [
        "# Estructuras de Datos"
      ]
    },
    {
      "cell_type": "markdown",
      "metadata": {
        "id": "ntlVNeAVMZPS"
      },
      "source": [
        "## Estructuras Básicas\n",
        "\n",
        "En `python` se trabaja con diferentes tipos de datos. Estos nos van a ayudar a poder modelar los diferentes tipos de datos que poseemos.\n",
        "\n",
        "En primer lugar podemos encontrar los `int`, y `float` que representan datos numéricos. El primero hace referencia a datos enteros `1,2,3,4` y el segundo a datos de punto flotante, que, en español, son todos los datos numéricos con decimales `1.1, 1.2, 3.14, 4.5`. Estos tipos de datos son importantes a la hora de la modelación numérica, como datos de un experimento.\n",
        "\n",
        "Luego podemos encontrar los datos del tipo `string` que son datos alfanumericos, es decir, palabras o frases. Este tipo de datos, puede ser utilizado como una categoría.\n",
        "\n",
        "Todas estas cantidades pueden ser guardadas en una variable para poder ser utilizadas posteriormente."
      ]
    },
    {
      "cell_type": "code",
      "execution_count": null,
      "metadata": {
        "id": "jnP0ezO-7mH0"
      },
      "outputs": [],
      "source": [
        "# ejemplos de tipos de datos\n",
        "integer = 4\n",
        "floating = 3.2\n",
        "string = \"hola\""
      ]
    },
    {
      "cell_type": "markdown",
      "metadata": {
        "id": "0XI5hGRrQs_Z"
      },
      "source": [
        "Lo importante de estas variables es que pueden ser operadas entre ellas.\n",
        "\n",
        "Las más tipicas son *adición, sustracción, multiplicación* y *división*.\n",
        "\n",
        "Para poder verlo, introduciremos la función `print`, que se encargará de mostrar la variable final. En este caso, utilizaremos el formato de f-string, que permite poner variables dentro de un string. La forma en la que funcionan las funciones en python se verá en la siguiente sección."
      ]
    },
    {
      "cell_type": "code",
      "execution_count": null,
      "metadata": {
        "colab": {
          "base_uri": "https://localhost:8080/"
        },
        "id": "lzO8MdpyQscb",
        "outputId": "b20e9dac-e58d-4294-a605-1e44795375ff"
      },
      "outputs": [
        {
          "name": "stdout",
          "output_type": "stream",
          "text": [
            "--suma int + int--\n",
            "La suma de 3 + 5 es 8\n",
            "--suma float + float--\n",
            "La suma de 3.1 + 5.2 es 8.3\n",
            "--suma float + int--\n",
            "La suma de 3.1 + 3 es 6.1\n",
            "suma string + string\n",
            "La suma de hola + mundo es holamundo\n"
          ]
        }
      ],
      "source": [
        "# suma int + int\n",
        "int1 = 3\n",
        "int2 = 5\n",
        "suma12 = int1 + int2\n",
        "print('--suma int + int--')\n",
        "print(f\"La suma de {int1} + {int2} es {suma12}\") # aquí pueden ver el formato de f-string\n",
        "float1 = 3.1\n",
        "float2 = 5.2\n",
        "suma12 = float1 + float2\n",
        "print('--suma float + float--')\n",
        "print(f\"La suma de {float1} + {float2} es {suma12}\")\n",
        "\n",
        "## podemos sumar también float con ints\n",
        "suma12 = float1 + int1\n",
        "print('--suma float + int--')\n",
        "print(f\"La suma de {float1} + {int1} es {suma12}\")\n",
        "\n",
        "# suma string + string\n",
        "\n",
        "string1 = 'hola' # los estrings de denotan por las comillas '' o \"\"\n",
        "string2 = 'mundo'\n",
        "suma12 = string1 + string2\n",
        "print('suma string + string')\n",
        "print(f\"La suma de {string1} + {string2} es {suma12}\")\n",
        "\n"
      ]
    },
    {
      "cell_type": "markdown",
      "metadata": {
        "id": "S2vfyz15R3sQ"
      },
      "source": [
        "Notar que la suma de `strings` equivale a concatenerlos.\n",
        "Aquí es importante identificar que cuando se hace una suma de `floats` con `int`, el `int` se pasa a `float`. Y es importante, debido a que podemos hacer esa conversión con facilidad.\n",
        "\n"
      ]
    },
    {
      "cell_type": "code",
      "execution_count": null,
      "metadata": {
        "colab": {
          "base_uri": "https://localhost:8080/"
        },
        "id": "l4wLHDsCRqNG",
        "outputId": "10f55c00-8856-4109-db3e-336d2fafaa60"
      },
      "outputs": [
        {
          "name": "stdout",
          "output_type": "stream",
          "text": [
            "int1 como int 3\n",
            "int1 como float 3.0\n",
            "float1 como float 3.9\n",
            "float1 como int 3\n"
          ]
        }
      ],
      "source": [
        "# int -> float\n",
        "int1 = 3\n",
        "print(f'int1 como int {int1}')\n",
        "int1_float = float(int1) # con la función float() convertimos lo que va dentro en float\n",
        "print(f'int1 como float {int1_float}')\n",
        "\n",
        "float1 = 3.9\n",
        "print(f'float1 como float {float1}')\n",
        "float1_int = int(float1) # con la función int() convertimos lo que va dentro en int\n",
        "print(f'float1 como int {float1_int}')"
      ]
    },
    {
      "cell_type": "markdown",
      "metadata": {
        "id": "fJJwzJctS7AQ"
      },
      "source": [
        "Notar que la función `float()` va a redondear al entero menor. Es decir, es equivalente a la función [floor](https://en.wikipedia.org/wiki/Floor_and_ceiling_functions)\n",
        "$$\n",
        "\\text{float}(x) = \\left \\lfloor{x}\\right \\rfloor; \\text{if}\\quad x \\in \\mathbb{R}\\setminus\\mathbb{Z}\n",
        "$$\n",
        "\n",
        "Antes no vimos la suma de `int, floats` y `strings`, esto se debe a que ocurre lo siguiente"
      ]
    },
    {
      "cell_type": "code",
      "execution_count": null,
      "metadata": {
        "colab": {
          "base_uri": "https://localhost:8080/",
          "height": 176
        },
        "id": "2fYn2yfoSP3C",
        "outputId": "6d650aa0-2161-4ce3-e26e-a90b2d20e960"
      },
      "outputs": [
        {
          "ename": "TypeError",
          "evalue": "unsupported operand type(s) for +: 'int' and 'str'",
          "output_type": "error",
          "traceback": [
            "\u001b[0;31m---------------------------------------------------------------------------\u001b[0m",
            "\u001b[0;31mTypeError\u001b[0m                                 Traceback (most recent call last)",
            "\u001b[0;32m<ipython-input-16-8483ab0c4056>\u001b[0m in \u001b[0;36m<cell line: 0>\u001b[0;34m()\u001b[0m\n\u001b[1;32m      1\u001b[0m \u001b[0mint1\u001b[0m \u001b[0;34m=\u001b[0m \u001b[0;36m1\u001b[0m\u001b[0;34m\u001b[0m\u001b[0;34m\u001b[0m\u001b[0m\n\u001b[1;32m      2\u001b[0m \u001b[0mstring1\u001b[0m \u001b[0;34m=\u001b[0m \u001b[0;34m'1'\u001b[0m\u001b[0;34m\u001b[0m\u001b[0;34m\u001b[0m\u001b[0m\n\u001b[0;32m----> 3\u001b[0;31m \u001b[0mprint\u001b[0m\u001b[0;34m(\u001b[0m\u001b[0mint1\u001b[0m \u001b[0;34m+\u001b[0m \u001b[0mstring1\u001b[0m\u001b[0;34m)\u001b[0m\u001b[0;34m\u001b[0m\u001b[0;34m\u001b[0m\u001b[0m\n\u001b[0m",
            "\u001b[0;31mTypeError\u001b[0m: unsupported operand type(s) for +: 'int' and 'str'"
          ]
        }
      ],
      "source": [
        "int1 = 1\n",
        "string1 = '1'\n",
        "print(int1 + string1)"
      ]
    },
    {
      "cell_type": "markdown",
      "metadata": {
        "id": "1CeosQrzUff8"
      },
      "source": [
        "A pesar de que `string1` es `'1'`, por lo cual se esperaría que se pudiera sumar, no se puede. Si queremos hacer una suma entre un `string` y un `int` o `float`, podemos hacerlo de dos formas."
      ]
    },
    {
      "cell_type": "code",
      "execution_count": null,
      "metadata": {
        "colab": {
          "base_uri": "https://localhost:8080/"
        },
        "id": "Yrl-AXRIUdMr",
        "outputId": "8bd8244c-853b-4b14-f79b-970a07900924"
      },
      "outputs": [
        {
          "name": "stdout",
          "output_type": "stream",
          "text": [
            "La suma de 1 + 5 es 6\n",
            "La suma de 5 + holis es 5holis\n"
          ]
        }
      ],
      "source": [
        "# suma string + int con string tipo int\n",
        "string_tipo_int = '1'\n",
        "int1 = 5\n",
        "string_tipo_int_a_int = int(string_tipo_int)\n",
        "print(f'La suma de {string_tipo_int} + {int1} es {string_tipo_int_a_int + int1}')\n",
        "\n",
        "string2 = 'holis'\n",
        "int1_string = str(int1)\n",
        "print(f'La suma de {int1} + {string2} es {int1_string + string2}')"
      ]
    },
    {
      "cell_type": "markdown",
      "metadata": {
        "id": "RkIV45CYVMZB"
      },
      "source": [
        "Importante que si el `string` que queremos pasar a `int` tiene que ser un número. Por ejemplo:"
      ]
    },
    {
      "cell_type": "code",
      "execution_count": null,
      "metadata": {
        "colab": {
          "base_uri": "https://localhost:8080/",
          "height": 158
        },
        "id": "CO942GJQU3Z6",
        "outputId": "e673b85f-b9bf-43d6-82ed-693802c31683"
      },
      "outputs": [
        {
          "ename": "ValueError",
          "evalue": "invalid literal for int() with base 10: 'hola'",
          "output_type": "error",
          "traceback": [
            "\u001b[0;31m---------------------------------------------------------------------------\u001b[0m",
            "\u001b[0;31mValueError\u001b[0m                                Traceback (most recent call last)",
            "\u001b[0;32m<ipython-input-24-f415a190a673>\u001b[0m in \u001b[0;36m<cell line: 0>\u001b[0;34m()\u001b[0m\n\u001b[1;32m      1\u001b[0m \u001b[0mstring_no_int\u001b[0m \u001b[0;34m=\u001b[0m \u001b[0;34m'hola'\u001b[0m\u001b[0;34m\u001b[0m\u001b[0;34m\u001b[0m\u001b[0m\n\u001b[0;32m----> 2\u001b[0;31m \u001b[0mtry_this\u001b[0m \u001b[0;34m=\u001b[0m \u001b[0mint\u001b[0m\u001b[0;34m(\u001b[0m\u001b[0mstring_no_int\u001b[0m\u001b[0;34m)\u001b[0m\u001b[0;34m\u001b[0m\u001b[0;34m\u001b[0m\u001b[0m\n\u001b[0m",
            "\u001b[0;31mValueError\u001b[0m: invalid literal for int() with base 10: 'hola'"
          ]
        }
      ],
      "source": [
        "string_no_int = 'hola'\n",
        "try_this = int(string_no_int) # va a tirar error"
      ]
    },
    {
      "cell_type": "markdown",
      "metadata": {
        "id": "GNtg6tHt1Y7N"
      },
      "source": [
        "Existen más operaciones entre números como\n",
        "- `*` para multiplicar\n",
        "- `**` para exponenciar\n",
        "Y otros menos típicos como:\n",
        "-   `%` El modulo de la division\n",
        "-   `//` La División entera\n",
        "\n",
        "Pueden ver más:\n",
        "- https://www.geeksforgeeks.org/division-operators-in-python/\n",
        "- https://www.datacamp.com/tutorial/exponents-in-python\n",
        "- https://www.altcademy.com/blog/how-to-multiply-in-python/"
      ]
    },
    {
      "cell_type": "code",
      "execution_count": null,
      "metadata": {
        "colab": {
          "base_uri": "https://localhost:8080/"
        },
        "id": "PFLzPFWK1qEP",
        "outputId": "ab175cdc-9147-4fc3-cb93-51ef72301199"
      },
      "outputs": [
        {
          "name": "stdout",
          "output_type": "stream",
          "text": [
            "5 * 2 = 10\n",
            "5 ** 2 = 25\n",
            "5 % 2 = 1\n",
            "5 // 2 = 2\n"
          ]
        }
      ],
      "source": [
        "int1 = 5\n",
        "int2 = 2\n",
        "print(f'{int1} * {int2} = {int1 * int2}')\n",
        "print(f'{int1} ** {int2} = {int1 ** int2}')\n",
        "print(f'{int1} % {int2} = {int1 % int2}')\n",
        "print(f'{int1} // {int2} = {int1 // int2}')"
      ]
    },
    {
      "cell_type": "markdown",
      "metadata": {
        "id": "AEpj9MByVeqL"
      },
      "source": [
        "## Estructuras de Datos Agrupados\n",
        "\n",
        "En `python` existen diferentes tipos de datos que agrupan cosas. En primer lugar, veremos las `listas`, que son las más sencillas y a las vez las más útiles.\n",
        "\n",
        "Este tipo de dato puede guardar tanto datos del mismo tipo, como datos de diferente tipo. Para crearlas, dentro de corchetes [ ] deben ingresar sus datos."
      ]
    },
    {
      "cell_type": "code",
      "execution_count": 7,
      "metadata": {
        "id": "wXERFgSrXUTT",
        "colab": {
          "base_uri": "https://localhost:8080/"
        },
        "outputId": "01d76697-0ff3-421b-d0ba-27d1caedef7d"
      },
      "outputs": [
        {
          "output_type": "stream",
          "name": "stdout",
          "text": [
            "4\n"
          ]
        }
      ],
      "source": [
        "list_int = [1,2,4,5]\n",
        "list_floats = [1.1,2.3,4.3,5.4]\n",
        "list_string = ['hola', 'como', 'estas']\n",
        "list_mix = [1, 1.2, 'hola']\n",
        "largo_lista_int = len(list_int) ## Función largo de listas\n",
        "print(largo_lista_int)"
      ]
    },
    {
      "cell_type": "code",
      "source": [],
      "metadata": {
        "colab": {
          "base_uri": "https://localhost:8080/",
          "height": 141
        },
        "id": "YzjviYAQkw8A",
        "outputId": "61281d48-a302-46e7-f1ae-ddffb91283f4"
      },
      "execution_count": 5,
      "outputs": [
        {
          "output_type": "error",
          "ename": "NameError",
          "evalue": "name 'list_int' is not defined",
          "traceback": [
            "\u001b[0;31m---------------------------------------------------------------------------\u001b[0m",
            "\u001b[0;31mNameError\u001b[0m                                 Traceback (most recent call last)",
            "\u001b[0;32m<ipython-input-5-5eea79ca3c7c>\u001b[0m in \u001b[0;36m<cell line: 0>\u001b[0;34m()\u001b[0m\n\u001b[0;32m----> 1\u001b[0;31m \u001b[0mlargo_lista_int\u001b[0m \u001b[0;34m=\u001b[0m \u001b[0mlen\u001b[0m\u001b[0;34m(\u001b[0m\u001b[0mlist_int\u001b[0m\u001b[0;34m)\u001b[0m\u001b[0;34m\u001b[0m\u001b[0;34m\u001b[0m\u001b[0m\n\u001b[0m",
            "\u001b[0;31mNameError\u001b[0m: name 'list_int' is not defined"
          ]
        }
      ]
    },
    {
      "cell_type": "markdown",
      "metadata": {
        "id": "CFudBoBRYGMc"
      },
      "source": [
        "Para acceder a un elemento de esta lista, se realiza un proceso llamado *indexación*. En este caso, accedemos al item $n-1$ de la lista, esto debido a que en **python se empieza a contar desde 0.** La indentación va de izquierda a derecha.\n",
        "\n",
        "Un ejemplo de esto lo veremos a continuación:"
      ]
    },
    {
      "cell_type": "code",
      "execution_count": null,
      "metadata": {
        "colab": {
          "base_uri": "https://localhost:8080/"
        },
        "id": "5Y22Irr0XnnV",
        "outputId": "1b4daf14-9bbf-452c-a3f9-abb21d80b093"
      },
      "outputs": [
        {
          "name": "stdout",
          "output_type": "stream",
          "text": [
            "El elemento número 5 de la lista es 6\n",
            "El elemento número 1 de la lista es 1\n"
          ]
        }
      ],
      "source": [
        "lista_aleatoria = [1,5,98,4,6,21,8,7,1,444,18,29,70,32,34,3,7]\n",
        "# si queremos acceder al elemento número 5 debemos hacer lo siguiente\n",
        "n_elem = 5\n",
        "elemento = lista_aleatoria[n_elem - 1] # con los corchetes cuadrados indexamos\n",
        "print(f'El elemento número {n_elem} de la lista es {elemento}')\n",
        "n_elem = 1\n",
        "elemento = lista_aleatoria[n_elem - 1] # con los corchetes cuadrados indexamos\n",
        "print(f'El elemento número {n_elem} de la lista es {elemento}')"
      ]
    },
    {
      "cell_type": "markdown",
      "metadata": {
        "id": "LmBcwYv9bkX3"
      },
      "source": [
        "A su vez, pueden existir listas de listas. Esto es útil a la hora sde modelar estructuras 2D como matrices o ejes de coordenadas.\n",
        "En este caso se realiza una doble indexación."
      ]
    },
    {
      "cell_type": "code",
      "execution_count": null,
      "metadata": {
        "colab": {
          "base_uri": "https://localhost:8080/"
        },
        "id": "e53YQUdVY_7A",
        "outputId": "d90aa397-6278-4f6f-90ff-32887ce11fb1"
      },
      "outputs": [
        {
          "name": "stdout",
          "output_type": "stream",
          "text": [
            "elemento 1, 2  = 2\n"
          ]
        }
      ],
      "source": [
        "lista_listas = [[1,2,3],[4,5,6],[7,8,9]]\n",
        "n_i = 1 # posicion en lista grande\n",
        "n_j = 2 # posicion en la segunda lista\n",
        "print(f'elemento {n_i}, {n_j}  = {lista_listas[n_i-1][n_j-1]}')"
      ]
    },
    {
      "cell_type": "markdown",
      "metadata": {
        "id": "gNUNkn7NdQ35"
      },
      "source": [
        "Una propiedad importante de las listas es que tienen un tamaño/longitud. Este puede ser extraido con la función `len`, este describe cuantos elementos hay en una lista."
      ]
    },
    {
      "cell_type": "code",
      "execution_count": null,
      "metadata": {
        "colab": {
          "base_uri": "https://localhost:8080/"
        },
        "id": "HwCXe210c39I",
        "outputId": "0da640bb-a210-4739-cc03-3fc80a2446a8"
      },
      "outputs": [
        {
          "name": "stdout",
          "output_type": "stream",
          "text": [
            "La longitud de la lista es 8\n",
            "La longitud de la lista de listas es 3\n"
          ]
        }
      ],
      "source": [
        "lista = [1,2,4,5,6,7,8,10]\n",
        "lista_listas = [[1,2,3],[4,5,6],[7,8,9]]\n",
        "len_lista = len(lista)\n",
        "len_lista_listas = len(lista_listas)\n",
        "print(f'La longitud de la lista es {len_lista}')\n",
        "print(f'La longitud de la lista de listas es {len_lista_listas}')"
      ]
    },
    {
      "cell_type": "markdown",
      "metadata": {
        "id": "gbl5uvq_4DbP"
      },
      "source": [
        "Y si se quieren agregar datos a una lista ya creada, se usa el método `.append()`.\n",
        "\n",
        "---\n",
        "Comentario: Va más allá del curso (y este speedrun de python) entender la diferencia entre funciones y métodos. Si quieren entender mejor ver:\n",
        "- https://www.geeksforgeeks.org/difference-method-function-python/"
      ]
    },
    {
      "cell_type": "code",
      "execution_count": null,
      "metadata": {
        "colab": {
          "base_uri": "https://localhost:8080/"
        },
        "id": "7XvjbyMo4DIS",
        "outputId": "8d68b16e-f812-43fc-937c-8a4b7c997726"
      },
      "outputs": [
        {
          "name": "stdout",
          "output_type": "stream",
          "text": [
            "[1, 3, 4, 56, 7, 8, 9, 9, 0, 9, 7, 43, '10']\n"
          ]
        }
      ],
      "source": [
        "lista_1 = [1,3,4,56,7,8,9,9,0,9,7,43]\n",
        "# quiero agregarle el elemento '10'\n",
        "lista_1.append('10')\n",
        "print(lista_1)\n",
        "# esta función siempre agregará al final"
      ]
    },
    {
      "cell_type": "markdown",
      "metadata": {
        "id": "xuoXtrvG4kwD"
      },
      "source": [
        "Existen más formas de agregar o eliminar elementos de una lista.\n",
        "- https://www.geeksforgeeks.org/python-lists/"
      ]
    },
    {
      "cell_type": "markdown",
      "metadata": {
        "id": "MVD55swad4cJ"
      },
      "source": [
        "Siguiendo la linea de las listas, los `sets` siguien una estructura ordenada. Estos se construyen con la función `set()`, esta va a tomar una lista, la va a ordenar de mayor a menor, y va a crear un set."
      ]
    },
    {
      "cell_type": "code",
      "execution_count": null,
      "metadata": {
        "colab": {
          "base_uri": "https://localhost:8080/"
        },
        "id": "bIg9SNUVdsB7",
        "outputId": "cdcadd25-9ba4-47d3-ec8e-ead5304adee2"
      },
      "outputs": [
        {
          "name": "stdout",
          "output_type": "stream",
          "text": [
            "{1, 2, 5, 7, 8}\n"
          ]
        }
      ],
      "source": [
        "set_1 = set([8,1,2,5,7,])\n",
        "print(set_1)"
      ]
    },
    {
      "cell_type": "markdown",
      "metadata": {
        "id": "8W4eDWAxhOKL"
      },
      "source": [
        "Esta estructura de datos se comporta diferente a las listas. Esta usualmente es utilizada para realizar operaciones pertenecientes al área de *Teoría de Conjuntos*. Si quieren saber más de ellos, pueden visitar las siguientes referencias.\n",
        "- https://www.geeksforgeeks.org/sets-in-python/\n",
        "- https://realpython.com/python-sets/\n",
        "- https://www.freecodecamp.org/news/python-set-operations-explained-with-examples/\n",
        "\n",
        "Pero para términos del curso, no son tan utilizados. Y cuando sean usados, serán mencionados.\n",
        "\n",
        "Lo que si es importante saber es que un set de dos objetos se llama **tupla** o **tuple** en inglés."
      ]
    },
    {
      "cell_type": "markdown",
      "metadata": {
        "id": "UarJDuZhifWH"
      },
      "source": [
        "La última estructura de datos que podemos encontrar son los diccionarios. Estos funcionan con una estructura de llave y dato. Para acceder a cada item en un diccionario, es necesario utilizar la llave que este tiene."
      ]
    },
    {
      "cell_type": "code",
      "execution_count": null,
      "metadata": {
        "colab": {
          "base_uri": "https://localhost:8080/"
        },
        "id": "OK2PvC_7fcR7",
        "outputId": "49642521-f6d0-46f7-d273-9e1b188d5c93"
      },
      "outputs": [
        {
          "name": "stdout",
          "output_type": "stream",
          "text": [
            "1\n",
            "holi\n",
            "[1, '2', 2.3]\n",
            "3\n",
            "[3]\n"
          ]
        }
      ],
      "source": [
        "dict_1 = {\n",
        "    'llave': 1,\n",
        "    'llave2': 'holi',\n",
        "    'llave3':[1,'2',2.3],\n",
        "    1.2:3,\n",
        "    (1,3,3):[3]\n",
        "}\n",
        "print(dict_1['llave'])\n",
        "print(dict_1['llave2'])\n",
        "print(dict_1['llave3'])\n",
        "print(dict_1[1.2])\n",
        "print(dict_1[(1,3,3)])\n"
      ]
    },
    {
      "cell_type": "markdown",
      "metadata": {
        "id": "e7fh9svHleco"
      },
      "source": [
        "Al igual que las listas, este tipo de dato puede almacenar una todo tipo de dato. Lo importante de saber es que la llave tiene que ser o un `int`, `string`, `float` o `set`, los denominados `hashable types`.\n",
        "\n",
        "Más información:\n",
        "* https://www.geeksforgeeks.org/python-dictionary/\n",
        "\n",
        "\n"
      ]
    },
    {
      "cell_type": "markdown",
      "metadata": {
        "id": "QjWaJm9ttC2W"
      },
      "source": [
        "# Condiciones"
      ]
    },
    {
      "cell_type": "markdown",
      "metadata": {
        "id": "qukLNujTtEoQ"
      },
      "source": [
        "Muchas veces cuando se trabaja con modelos computacionales, es esperable que cuando pase algo, ocurra algo, y si no, otra cosa.\n",
        "Esta es la estructura de los iteradores.\n",
        "La estructura básica es:\n",
        "\n",
        "1.  `if`\n",
        "2.  `elif` cuantas veces se quieran\n",
        "3.  `else` siempre termina en else\n",
        "En el siguiente ejemplo, se ve más claro.\n",
        "\n",
        "Nuestro objetivo será mostrar si el número que ponemos es par, impar, o primo (tomamos números del 1 al 20, para mayor facilidad)\n"
      ]
    },
    {
      "cell_type": "code",
      "execution_count": null,
      "metadata": {
        "colab": {
          "base_uri": "https://localhost:8080/"
        },
        "id": "hIuumdl8tbwE",
        "outputId": "222c0f67-2e40-49c7-f07c-260cccfd3bef"
      },
      "outputs": [
        {
          "name": "stdout",
          "output_type": "stream",
          "text": [
            "3 es primo\n"
          ]
        }
      ],
      "source": [
        "primos = [2, 3, 5, 7, 11, 13, 17, 19]\n",
        "numero = 3\n",
        "if numero % 2 == 0:\n",
        "    print(f'{numero} es par')\n",
        "elif numero in primos:\n",
        "    print(f'{numero} es primo')\n",
        "else:\n",
        "    print(f'{numero} es impar')"
      ]
    },
    {
      "cell_type": "markdown",
      "source": [
        "Se usa el = para definir variables, e == para condiciones de igualdas"
      ],
      "metadata": {
        "id": "4tZRQ7C0oqsY"
      }
    },
    {
      "cell_type": "markdown",
      "metadata": {
        "id": "_nb0H352435g"
      },
      "source": [
        "Lo importante es que el condicional tiene la estructura:\n",
        "\n",
        "\n",
        "```\n",
        "if <Condicion booleana>:\n",
        "    # pasa algo\n",
        "elif <condicion booleanda:\n",
        "    # pasa algo\n",
        "else:\n",
        "    #pasa algo\n",
        "```\n",
        "Las condiciones booleanas pueden ser del tipo order, es decir, $>,<,==, \\leq, \\geq$, que definen las diferencias numéricas. o condiones que trabajen con conjuntos `in`, que ve si un item esta dentro de una lista.\n",
        "\n",
        "Importante que después de la condión viene una indentación.\n",
        "\n"
      ]
    },
    {
      "cell_type": "code",
      "execution_count": null,
      "metadata": {
        "colab": {
          "base_uri": "https://localhost:8080/",
          "height": 106
        },
        "id": "2OZCpijG5aX5",
        "outputId": "ff8d90c5-7099-4228-9dc7-dca3d82eaba9"
      },
      "outputs": [
        {
          "ename": "IndentationError",
          "evalue": "expected an indented block after 'if' statement on line 1 (<ipython-input-71-3e56910a792b>, line 2)",
          "output_type": "error",
          "traceback": [
            "\u001b[0;36m  File \u001b[0;32m\"<ipython-input-71-3e56910a792b>\"\u001b[0;36m, line \u001b[0;32m2\u001b[0m\n\u001b[0;31m    a\u001b[0m\n\u001b[0m    ^\u001b[0m\n\u001b[0;31mIndentationError\u001b[0m\u001b[0;31m:\u001b[0m expected an indented block after 'if' statement on line 1\n"
          ]
        }
      ],
      "source": [
        "if  4==4:\n",
        "a"
      ]
    },
    {
      "cell_type": "markdown",
      "metadata": {
        "id": "WxzUb82F5d-3"
      },
      "source": [
        "Si no va la indentación, va a tirar un error del tipo `IndentationError`.\n",
        "---\n",
        "\n",
        "Tutoriales complementarios:\n",
        "- https://www.freecodecamp.org/espanol/news/sentencias-if-elif-y-else-en-python/\n",
        "- https://www.datacamp.com/tutorial/elif-statements-python\n",
        "- https://www.programiz.com/python-programming/if-elif-else"
      ]
    },
    {
      "cell_type": "markdown",
      "metadata": {
        "id": "P7NnHz2HnBbn"
      },
      "source": [
        "# Iteradores"
      ]
    },
    {
      "cell_type": "markdown",
      "metadata": {
        "id": "z_iMXRSlnDw-"
      },
      "source": [
        "En python existen dos tipos de iteradores, `for` loops y `while` loops.\n",
        "\n",
        "El `for` loop se basa en hacer algo por una cantidad de veces, de ahí el *for*. Mientras que el `while` hace algo mientras algo este pasando, de ahí el while.\n",
        "\n",
        "Para entender estos procesos, veremos dos ejemplos."
      ]
    },
    {
      "cell_type": "markdown",
      "metadata": {
        "id": "WXgYJePJoH0S"
      },
      "source": [
        "Se quieren realizar la secuencia de Fibonacci hasta el n-esimo número. Para esto, tenemos que\n",
        "$$\n",
        "F_n = \\begin{cases}\n",
        "F_0 = 0\\\\\n",
        "F_1 = 1\\\\\n",
        "F_n = F_{n-1} + F_{n-2}\n",
        "\\end{cases}\n",
        "$$"
      ]
    },
    {
      "cell_type": "code",
      "execution_count": null,
      "metadata": {
        "colab": {
          "base_uri": "https://localhost:8080/"
        },
        "id": "7pcjpbvolckI",
        "outputId": "0beddf73-d509-44a1-93cd-e73b1a672c85"
      },
      "outputs": [
        {
          "name": "stdout",
          "output_type": "stream",
          "text": [
            "iteracion n° 1, estamos en el número 3 de Fibonacci\n",
            "iteracion n° 2, estamos en el número 4 de Fibonacci\n",
            "iteracion n° 3, estamos en el número 5 de Fibonacci\n",
            "iteracion n° 4, estamos en el número 6 de Fibonacci\n",
            "iteracion n° 5, estamos en el número 7 de Fibonacci\n",
            "iteracion n° 6, estamos en el número 8 de Fibonacci\n",
            "iteracion n° 7, estamos en el número 9 de Fibonacci\n",
            "iteracion n° 8, estamos en el número 10 de Fibonacci\n",
            "El item 10 de la secuencia de Fibonacci es 34\n"
          ]
        }
      ],
      "source": [
        "fin = 10\n",
        "# con for loops\n",
        "\n",
        "F_n_menos2 = 0  # F_0 iniciado\n",
        "F_n_menos1 = 1  # F_1 iniciado\n",
        "\n",
        "# estructura del iterador for\n",
        "for i in range(fin-2): # restamos dos porque partimos del dos\n",
        "    # considerar que al inicio estamos en el n = 2\n",
        "    print(f'iteracion n° {i+1}, estamos en el número {(i+1)+2} de Fibonacci')\n",
        "    F_n = F_n_menos1 + F_n_menos2\n",
        "    F_n_menos2 = F_n_menos1\n",
        "    F_n_menos1 = F_n\n",
        "print(f'El item {fin} de la secuencia de Fibonacci es {F_n}')"
      ]
    },
    {
      "cell_type": "markdown",
      "metadata": {
        "id": "McO9LCua6w2c"
      },
      "source": [
        "Expliquemos un poco el código para entender la estructura del for loop.\n",
        "Definimos cual es el n que queremos llegar en la secuencia\n",
        "```\n",
        "fin = 10\n",
        "```\n",
        "Definimos los casos base en n=0 y n=1, que vienen dados desde un inicio.\n",
        "```\n",
        "F_n_menos2 = 0  # F_0 iniciado\n",
        "F_n_menos1 = 1  # F_1 iniciado\n",
        "```\n",
        "Creamos la iteración, la estructura es como sigo:\n",
        "`for <iterador> for <range o lista>`\n",
        "El `<iterador>` va a ser una variable que va cambiando en cada uno de las iteraciones del for-loop. El `<range o lista>` puede ser un range(n) que define cuales van a ser los indices de la variables `<iterador>`, por defecto parte en 0 y llega hasta n-1 (ejemplo más [detallado](https://www.freecodecamp.org/news/python-for-loop-for-i-in-range-example/)). La otra opción es pasarle al for-loop una lista, de la cual `<iterador>` irá tomando sus valores de derecha a izquierda.  \n",
        "```\n",
        "# estructura del iterador for\n",
        "for i in range(fin-2): # restamos dos porque partimos del dos\n",
        "```\n",
        "Luego, vienen las iteraciones. En cada una pasa lo mismo. En este caso, estamos mostrando el número de iteración (recordar que partimos de 0), y en que número de la corrida estamos.\n",
        "\n",
        "Y redefinimos `F_n_menos2 = F_n_menos1` y `F_n_menos1 = F_n` para usarlos en el siguiente loop.\n",
        "```\n",
        "    # considerar que al inicio estamos en el n = 2\n",
        "    F_n = F_n_menos1 + F_n_menos2\n",
        "    print(f'iteracion n° {i+1}, estamos en el número {(i+1)+2} de Fibonacci')\n",
        "    F_n_menos2 = F_n_menos1\n",
        "    F_n_menos1 = F_n\n",
        "print(f'El item {fin} de la secuencia de Fibonacci es {F_n}')\n",
        "```"
      ]
    },
    {
      "cell_type": "code",
      "execution_count": null,
      "metadata": {
        "colab": {
          "base_uri": "https://localhost:8080/"
        },
        "id": "Wi85LmDU3PYx",
        "outputId": "233ff7ec-30a0-4aac-857e-3b71e74fb316"
      },
      "outputs": [
        {
          "name": "stdout",
          "output_type": "stream",
          "text": [
            "iteracion n° 1, estamos en el número 3 de Fibonacci\n",
            "iteracion n° 2, estamos en el número 4 de Fibonacci\n",
            "iteracion n° 3, estamos en el número 5 de Fibonacci\n",
            "iteracion n° 4, estamos en el número 6 de Fibonacci\n",
            "iteracion n° 5, estamos en el número 7 de Fibonacci\n",
            "iteracion n° 6, estamos en el número 8 de Fibonacci\n",
            "iteracion n° 7, estamos en el número 9 de Fibonacci\n",
            "iteracion n° 8, estamos en el número 10 de Fibonacci\n",
            "El item 10 de la secuencia de Fibonacci es 34\n"
          ]
        }
      ],
      "source": [
        "\n",
        "fin = 10\n",
        "# con while loop\n",
        "\n",
        "F_n_menos2 = 0  # F_0 iniciado\n",
        "F_n_menos1 = 1  # F_1 iniciado\n",
        "i = 0\n",
        "while i+2 != fin:\n",
        "    print(f'iteracion n° {i+1}, estamos en el número {(i+1)+2} de Fibonacci')\n",
        "    F_n = F_n_menos1 + F_n_menos2\n",
        "    F_n_menos2 = F_n_menos1\n",
        "    F_n_menos1 = F_n\n",
        "    i += 1\n",
        "\n",
        "print(f'El item {fin} de la secuencia de Fibonacci es {F_n}')"
      ]
    },
    {
      "cell_type": "markdown",
      "metadata": {
        "id": "lcwcF9oXDS17"
      },
      "source": [
        "Expliquemos:\n",
        "Hasta aquí todo igual\n",
        "```\n",
        "fin = 10\n",
        "# con while loop\n",
        "\n",
        "F_n_menos2 = 0  # F_0 iniciado\n",
        "F_n_menos1 = 1  # F_1 iniciado\n",
        "```\n",
        "Cuando queremos hacer este tipo de iteraciones con while-loops, se empieza definiendo el iterador desde antes. En este caso es `i`.\n",
        "```\n",
        "i = 0\n",
        "```\n",
        "Vamos corriendo las iteraciones hasta que `i+2` (partimos desde el 0) llege a `fin`\n",
        "```\n",
        "while i+2 != fin:\n",
        "```\n",
        "Lo mismo de antes\n",
        "```\n",
        "    print(f'iteracion n° {i+1}, estamos en el número {(i+1)+2} de Fibonacci')\n",
        "    F_n = F_n_menos1 + F_n_menos2\n",
        "    F_n_menos2 = F_n_menos1\n",
        "    F_n_menos1 = F_n\n",
        "```\n",
        "Actualizamos el iterador\n",
        "```\n",
        "    i += 1\n",
        "```\n",
        "```\n",
        "print(f'El item {fin} de la secuencia de Fibonacci es {F_n}')\n",
        "```"
      ]
    },
    {
      "cell_type": "markdown",
      "metadata": {
        "id": "Q2djWR87EMzF"
      },
      "source": [
        "Para mayor información y ejemplos más complejos pueden ver:\n",
        "- https://www.geeksforgeeks.org/difference-between-for-loop-and-while-loop-in-programming/\n",
        "- https://www.youtube.com/watch?v=23vCap6iYSs\n",
        "- https://blog.logrocket.com/for-while-loops-python/"
      ]
    },
    {
      "cell_type": "markdown",
      "metadata": {
        "id": "dHzab1VlF7QB"
      },
      "source": [
        "# Funciones"
      ]
    },
    {
      "cell_type": "markdown",
      "metadata": {
        "id": "Uf61HR60PHsa"
      },
      "source": [
        "Una de las características principales de los lenguajes de programación, y por ende `python`, es la posibilidad de crear funciones y objetos (serán vistos en la siguiente sección). Este tipo de \"construcciones\" permiten capturar un comportamiento y poder aplicarlo sin la necesidad de escribir el código varias veces.\n"
      ]
    },
    {
      "cell_type": "code",
      "execution_count": null,
      "metadata": {
        "colab": {
          "base_uri": "https://localhost:8080/"
        },
        "id": "wccDunsbPqPG",
        "outputId": "b7d24da3-f0e9-4a5a-a705-a20edb430cc7"
      },
      "outputs": [
        {
          "name": "stdout",
          "output_type": "stream",
          "text": [
            "La raiz cuadrada de 2 es 1.4142135623730951\n",
            "La raiz cubica de 3 es 1.4422495703074083\n",
            "La raiz cuadrada de 4 es 2.0\n",
            "La raiz cuadrada de 9 es 3.0\n",
            "La raiz cubica de 27 es 3.0\n",
            "La raiz cubica de 14 es 2.4101422641752297\n"
          ]
        }
      ],
      "source": [
        "# ejemplo inicial\n",
        "def mi_raiz(numero, exponente):\n",
        "    # recordemos que la raiz n-esima de un número es equivalente a ** 1/n\n",
        "    raiz_n = numero ** (1/exponente)\n",
        "    return raiz_n\n",
        "\n",
        "# raiz cuadrada de 2\n",
        "raiz_2 = mi_raiz(2,2)\n",
        "print(f'La raiz cuadrada de 2 es {raiz_2}')\n",
        "# raiz cubica de 3\n",
        "raiz_3 = mi_raiz(3,3)\n",
        "print(f'La raiz cubica de 3 es {raiz_3}')\n",
        "# raiz cuadradade 4\n",
        "raiz_4 = mi_raiz(4,2)\n",
        "print(f'La raiz cuadrada de 4 es {raiz_4}')\n",
        "# raiz cuadrada de 9\n",
        "raiz_9 = mi_raiz(9,2)\n",
        "print(f'La raiz cuadrada de 9 es {raiz_9}')\n",
        "# raiz cubica de 27\n",
        "raiz_27 = mi_raiz(27,3)\n",
        "print(f'La raiz cubica de 27 es {raiz_27}')\n",
        "# raiz cubica de 14\n",
        "raiz_14 = mi_raiz(14,3)\n",
        "print(f'La raiz cubica de 14 es {raiz_14}')"
      ]
    },
    {
      "cell_type": "markdown",
      "metadata": {
        "id": "nDy_W0M8Q3go"
      },
      "source": [
        "La estructura de una función en python es sencilla. Esta consta de 4 partes escenciales:\n",
        "**Nombre de la función y argumentos**\n",
        "\n",
        "```\n",
        "def mi_funcion(mis_argumentos):\n",
        "```\n",
        "\n",
        "Importante, para declarar una función se utiliza `def` luego un espacio y despues `mi_funcion`. En este caso `mi_funcion` corresponde al nombre de la función. Esta puede ser cualquier tipo de string, siempre y cuando sera una sola palabra. Es decir, `mi funcion` no cuenta, pero `mi_funcion` si. En este caso es costumbre utilizar `_` para separar paralabras.\n",
        "\n",
        "Por otro lado `mis_argumentos` son las variables de una función. Estos pueden ser cualquier cosa, y existen dos tipos. Variables por defecto, y las que no. Las variables por defecto se pueden utilizar para demarcar un comportamiento que no se espera que cambie, por ejemplo, que la constate de gravedad sea `g = 9.81`. Mientras que las no por defecto siempre es necesario definirlas. Posterior a los argumentos, que van en parentesis, se ponen dos puntos para denotar el fin de la declaración de la función.\n",
        "\n",
        "**Cuerpo de la función**\n",
        "\n",
        "\n",
        "```\n",
        "def mi_funcion(mis_argumentos):\n",
        "    mi_cuerpo\n",
        "```\n",
        "El cuerpo de la función posee una indentación después de los dos puntos. Este costa de todo lo que va a hacer la función. En el caso de `mi_raiz` este realizaba el calculo de dicha raíz, pero en casos más complejos es posible agregar muchas más lineas de código para que la función haga algo más complejo.\n",
        "\n",
        "\n",
        "**Return**\n",
        "```\n",
        "def mi_funcion(mis_argumentos):\n",
        "    mi_cuerpo\n",
        "    return mi_return\n",
        "```\n",
        "El `return` o *output* de una función es lo que queremos que salga a la hora de llamar a la función. Esta puede retornar una cosa, al decir que `mi_return` es solamente un objeto, o varias, al definir `mi_return` como una colección de variables separadas por coma.\n",
        "\n"
      ]
    },
    {
      "cell_type": "code",
      "execution_count": null,
      "metadata": {
        "colab": {
          "base_uri": "https://localhost:8080/"
        },
        "id": "ejRSR7yUUEdU",
        "outputId": "49a99ff8-0740-4cae-c730-c4d796fe3296"
      },
      "outputs": [
        {
          "name": "stdout",
          "output_type": "stream",
          "text": [
            "La posición en el tiempo 3 es 44.145\n",
            "La velocidad en el tiempo 3 es 29.43\n",
            "La posición en el tiempo 3 es 45.0\n",
            "La velocidad en el tiempo 3 es 30\n"
          ]
        }
      ],
      "source": [
        "# Ejemplo más complejo\n",
        "\n",
        "def mi_mura(posicion_0, velocidad_0, tiempo, aceleracion = 9.81):\n",
        "    posicion = posicion_0 + velocidad_0 * tiempo + 0.5 * aceleracion * tiempo ** 2\n",
        "    velocidad = velocidad_0 + aceleracion * tiempo\n",
        "    return posicion, velocidad\n",
        "# usando la aceleración por defecto\n",
        "posicion_0 = 0\n",
        "velocidad_0 = 0\n",
        "tiempo = 3\n",
        "posicion, velocidad = mi_mura(posicion_0, velocidad_0, tiempo)\n",
        "print(f'La posición en el tiempo {tiempo} es {posicion}')\n",
        "print(f'La velocidad en el tiempo {tiempo} es {velocidad}')\n",
        "\n",
        "# usando una aceleración definida por el usuario\n",
        "posicion_0 = 0\n",
        "velocidad_0 = 0\n",
        "tiempo = 3\n",
        "aceleracion = 10\n",
        "posicion, velocidad = mi_mura(posicion_0, velocidad_0, tiempo, aceleracion)\n",
        "print(f'La posición en el tiempo {tiempo} es {posicion}')\n",
        "print(f'La velocidad en el tiempo {tiempo} es {velocidad}')"
      ]
    },
    {
      "cell_type": "markdown",
      "metadata": {
        "id": "3o96YawBVrKk"
      },
      "source": [
        "En este caso, podemos ver como la funcion `mi_mura` representa el movimiento rectilineao uniform en base a la posicion inicial, `posicion_0`, velocidad inicial, `velocidad_0`, tiempo desde el inicio, `tiempo`, y la aceleración, `aceleracion`, la cual por defecto es 9.81.\n",
        "\n",
        "---\n",
        "Para más ejemplos pueden ver:\n",
        "- https://www.geeksforgeeks.org/functional-programming-in-python/\n",
        "- https://www.geeksforgeeks.org/python-functions/"
      ]
    },
    {
      "cell_type": "markdown",
      "metadata": {
        "id": "wljIUzkEF8QS"
      },
      "source": [
        "# OOP"
      ]
    },
    {
      "cell_type": "markdown",
      "metadata": {
        "id": "pBAh4zSbWKJ5"
      },
      "source": [
        "La programación basada en objeto, o OOP por sus siglas en inglés, es una forma de programar en la que, en vez de crear funciones y variables, se crean objetos que se encargan de modelar el comportamiento total de una \"entidad\".\n",
        "\n",
        "Este tipo de perspectiva es diferente, pero ayuda a la hora de tener que crear diferentes partes de un todo que interactuen. La discusión sobre cual perspectiva es mejor siguie siendo un debate constate: https://www.datacamp.com/tutorial/functional-programming-vs-object-oriented-programming"
      ]
    },
    {
      "cell_type": "code",
      "execution_count": null,
      "metadata": {
        "colab": {
          "base_uri": "https://localhost:8080/"
        },
        "id": "80Z7YYsPYTUf",
        "outputId": "4432768b-eeca-4f22-9bb0-c90d3aac95b3"
      },
      "outputs": [
        {
          "name": "stdout",
          "output_type": "stream",
          "text": [
            "Mi nombre es Juan\n",
            "Mi edad es 25\n",
            "Hola, soy Juan y voy a contar hasta 10\n",
            "0\n",
            "1\n",
            "2\n",
            "3\n",
            "4\n",
            "5\n",
            "6\n",
            "7\n",
            "8\n",
            "9\n",
            "10\n",
            "Gracias\n"
          ]
        }
      ],
      "source": [
        "# ejemplo\n",
        "class Persona:\n",
        "    def __init__(self, nombre, edad):\n",
        "        self.nombre = nombre\n",
        "        self.edad = edad\n",
        "    def decir_nombre(self):\n",
        "        print(f'Mi nombre es {self.nombre}')\n",
        "    def decir_edad(self):\n",
        "        print(f'Mi edad es {self.edad}')\n",
        "    def decir_todo(self):\n",
        "        self.decir_nombre()\n",
        "        self.decir_edad()\n",
        "    def contar_hasta(self, n):\n",
        "        print(f'Hola, soy {self.nombre} y voy a contar hasta {n}')\n",
        "        for i in range(n+1):\n",
        "            print(i)\n",
        "        print('Gracias')\n",
        "Juan = Persona('Juan', 25)\n",
        "Juan.decir_todo()\n",
        "Juan.contar_hasta(10)\n"
      ]
    },
    {
      "cell_type": "markdown",
      "metadata": {
        "id": "B143_7j8ZQYr"
      },
      "source": [
        "Para entender la programación basada en objetos, veamos con el ejemplo anterior:\n",
        "\n",
        "\n",
        "Definimos la clase `Persona`, que nos servirá como modelo para crear objetos con características específicas.  \n",
        "Esta siempre se inicia con `class`, y es costumbre que parta con mayúscula.\n",
        "```\n",
        "class Persona:\n",
        "```\n",
        "Dentro de la clase, definimos el **método constructor**, que se ejecuta automáticamente al crear una nueva `Persona`.  \n",
        "```\n",
        "    def __init__(self, nombre, edad):\n",
        "```\n",
        "Aquí, `__init__` es el constructor, y toma dos argumentos (`nombre` y `edad`) que serán asignados al objeto.  \n",
        "Usamos `self` para referirnos a los atributos del objeto mismo.  \n",
        "```\n",
        "        self.nombre = nombre\n",
        "        self.edad = edad\n",
        "```\n",
        "Estos atributos guardan los valores proporcionados al crear una `Persona`.  \n",
        "\n",
        "Creación de un objeto  \n",
        "La estructura básica para crear una nueva persona es:  \n",
        "```\n",
        "juan = Persona(\"Juan\", 25)\n",
        "```\n",
        "Esto significa que `juan` es una instancia de la clase `Persona`, con `nombre = \"Juan\"` y `edad = 25`.  \n",
        "\n",
        "\n",
        "Expliquemos los **métodos** de la clase `Persona`.  \n",
        "\n",
        "En una clase, los **métodos** son funciones que pertenecen a los objetos creados a partir de esa clase.  \n",
        "\n",
        "**Método `decir_nombre`**\n",
        "```\n",
        "    def decir_nombre(self):\n",
        "        print(f'Mi nombre es {self.nombre}')\n",
        "```\n",
        "Este método **imprime el nombre de la persona**.  \n",
        "\n",
        "Ejemplo de uso:  \n",
        "```\n",
        "juan = Persona(\"Juan\", 25)\n",
        "juan.decir_nombre()\n",
        "```\n",
        "Salida:\n",
        "```\n",
        "Mi nombre es Juan\n",
        "```\n",
        "El método usa `self.nombre` para acceder al atributo del objeto.\n",
        "\n",
        "---\n",
        "\n",
        "**Método `decir_edad`**\n",
        "```\n",
        "    def decir_edad(self):\n",
        "        print(f'Mi edad es {self.edad}')\n",
        "```\n",
        "Este método **imprime la edad de la persona**.  \n",
        "\n",
        "Ejemplo de uso:\n",
        "```\n",
        "juan.decir_edad()\n",
        "```\n",
        "Salida:\n",
        "```\n",
        "Mi edad es 25\n",
        "```\n",
        "Funciona igual que `decir_nombre`, pero con `self.edad`.\n",
        "\n",
        "---\n",
        "\n",
        "**Método `decir_todo`**\n",
        "```\n",
        "    def decir_todo(self):\n",
        "        self.decir_nombre()\n",
        "        self.decir_edad()\n",
        "```\n",
        "Este método **llama a los otros dos métodos** para decir el nombre y la edad en orden.  \n",
        "\n",
        "Ejemplo de uso:\n",
        "```\n",
        "juan.decir_todo()\n",
        "```\n",
        "Salida:\n",
        "```\n",
        "Mi nombre es Juan\n",
        "Mi edad es 25\n",
        "```\n",
        "Este es un ejemplo de **reutilización de métodos dentro de la misma clase**.\n",
        "\n",
        "---\n",
        "\n",
        "**Método `contar_hasta`**\n",
        "```\n",
        "    def contar_hasta(self, n):\n",
        "        print(f'Hola, soy {self.nombre} y voy a contar hasta {n}')\n",
        "        for i in range(n+1):\n",
        "            print(i)\n",
        "        print('Gracias')\n",
        "```\n",
        "Este método **hace que la persona cuente hasta `n`**.  \n",
        "\n",
        "Estructura del `for`:\n",
        "- `for i in range(n+1)`: el `for` recorre los números desde `0` hasta `n`.  \n",
        "- En cada iteración, se imprime el número actual (`i`).  \n",
        "- Al final, imprime `\"Gracias\"`.  \n",
        "\n",
        "Ejemplo de uso:\n",
        "```\n",
        "juan.contar_hasta(3)\n",
        "```\n",
        "Salida:\n",
        "```\n",
        "Hola, soy Juan y voy a contar hasta 3\n",
        "0\n",
        "1\n",
        "2\n",
        "3\n",
        "Gracias\n",
        "```\n"
      ]
    },
    {
      "cell_type": "markdown",
      "metadata": {
        "id": "Ry0XWZOwaCuv"
      },
      "source": [
        "OOP es complejo al inicio, pero sirve también para entender como funcionan los paquetes de python. Si quieren aprender más sobre objetos pueden ver:\n",
        "\n",
        "- https://www.geeksforgeeks.org/introduction-of-object-oriented-programming/\n",
        "- https://www.geeksforgeeks.org/python-oops-concepts/"
      ]
    },
    {
      "cell_type": "markdown",
      "metadata": {
        "id": "vIM-AZyeF_CY"
      },
      "source": [
        "# Instalar paquetes"
      ]
    },
    {
      "cell_type": "markdown",
      "metadata": {
        "id": "NwAQgzV_aT5i"
      },
      "source": [
        "`python` es el lenguaje de programación con la mayor cantidad de paquetes, al rededor de 650.000. Esto le confiere a `python` una versatilidad alta. Existen paquetes para todo, basta con solo googlear para encontrar aquel paquete que haga lo que uno quiere.\n",
        "\n",
        "Para poder instalar paquetes se utiliza el comando `pip`, el cual puede ser llamado desde la linea de código de Google Colab, o la terminal de su computador."
      ]
    },
    {
      "cell_type": "code",
      "execution_count": null,
      "metadata": {
        "colab": {
          "base_uri": "https://localhost:8080/"
        },
        "id": "u0rIN-0eZV9W",
        "outputId": "d083d08d-5ec7-4e27-e3c4-285815761aaa"
      },
      "outputs": [
        {
          "name": "stdout",
          "output_type": "stream",
          "text": [
            "\n",
            "Usage:   \n",
            "  pip3 <command> [options]\n",
            "\n",
            "Commands:\n",
            "  install                     Install packages.\n",
            "  download                    Download packages.\n",
            "  uninstall                   Uninstall packages.\n",
            "  freeze                      Output installed packages in requirements format.\n",
            "  inspect                     Inspect the python environment.\n",
            "  list                        List installed packages.\n",
            "  show                        Show information about installed packages.\n",
            "  check                       Verify installed packages have compatible dependencies.\n",
            "  config                      Manage local and global configuration.\n",
            "  search                      Search PyPI for packages.\n",
            "  cache                       Inspect and manage pip's wheel cache.\n",
            "  index                       Inspect information available from package indexes.\n",
            "  wheel                       Build wheels from your requirements.\n",
            "  hash                        Compute hashes of package archives.\n",
            "  completion                  A helper command used for command completion.\n",
            "  debug                       Show information useful for debugging.\n",
            "  help                        Show help for commands.\n",
            "\n",
            "General Options:\n",
            "  -h, --help                  Show help.\n",
            "  --debug                     Let unhandled exceptions propagate outside the main subroutine,\n",
            "                              instead of logging them to stderr.\n",
            "  --isolated                  Run pip in an isolated mode, ignoring environment variables and user\n",
            "                              configuration.\n",
            "  --require-virtualenv        Allow pip to only run in a virtual environment; exit with an error\n",
            "                              otherwise.\n",
            "  --python <python>           Run pip with the specified Python interpreter.\n",
            "  -v, --verbose               Give more output. Option is additive, and can be used up to 3 times.\n",
            "  -V, --version               Show version and exit.\n",
            "  -q, --quiet                 Give less output. Option is additive, and can be used up to 3 times\n",
            "                              (corresponding to WARNING, ERROR, and CRITICAL logging levels).\n",
            "  --log <path>                Path to a verbose appending log.\n",
            "  --no-input                  Disable prompting for input.\n",
            "  --keyring-provider <keyring_provider>\n",
            "                              Enable the credential lookup via the keyring library if user input\n",
            "                              is allowed. Specify which mechanism to use [disabled, import,\n",
            "                              subprocess]. (default: disabled)\n",
            "  --proxy <proxy>             Specify a proxy in the form\n",
            "                              scheme://[user:passwd@]proxy.server:port.\n",
            "  --retries <retries>         Maximum number of retries each connection should attempt (default 5\n",
            "                              times).\n",
            "  --timeout <sec>             Set the socket timeout (default 15 seconds).\n",
            "  --exists-action <action>    Default action when a path already exists: (s)witch, (i)gnore,\n",
            "                              (w)ipe, (b)ackup, (a)bort.\n",
            "  --trusted-host <hostname>   Mark this host or host:port pair as trusted, even though it does not\n",
            "                              have valid or any HTTPS.\n",
            "  --cert <path>               Path to PEM-encoded CA certificate bundle. If provided, overrides\n",
            "                              the default. See 'SSL Certificate Verification' in pip documentation\n",
            "                              for more information.\n",
            "  --client-cert <path>        Path to SSL client certificate, a single file containing the private\n",
            "                              key and the certificate in PEM format.\n",
            "  --cache-dir <dir>           Store the cache data in <dir>.\n",
            "  --no-cache-dir              Disable the cache.\n",
            "  --disable-pip-version-check\n",
            "                              Don't periodically check PyPI to determine whether a new version of\n",
            "                              pip is available for download. Implied with --no-index.\n",
            "  --no-color                  Suppress colored output.\n",
            "  --no-python-version-warning\n",
            "                              Silence deprecation warnings for upcoming unsupported Pythons.\n",
            "  --use-feature <feature>     Enable new functionality, that may be backward incompatible.\n",
            "  --use-deprecated <feature>  Enable deprecated functionality, that will be removed in the future.\n"
          ]
        }
      ],
      "source": [
        "!pip"
      ]
    },
    {
      "cell_type": "markdown",
      "metadata": {
        "id": "2DC-AXRna4Ij"
      },
      "source": [
        "Para instalar un paquete, deben realizar\n",
        "\n",
        "```\n",
        "!pip install <nombre del paquete>\n",
        "```\n",
        "\n",
        "Esto sirve para instalar el paquete deseado, tipicamente los desarrolladores ponen el nombre del paquete para que esta llamda sea más sencilla.\n",
        "\n",
        "Un ejemplo de esto es:\n"
      ]
    },
    {
      "cell_type": "code",
      "execution_count": null,
      "metadata": {
        "colab": {
          "base_uri": "https://localhost:8080/"
        },
        "id": "Lo794nE1bJYs",
        "outputId": "d644408e-387f-4082-c2a4-343628370234"
      },
      "outputs": [
        {
          "name": "stdout",
          "output_type": "stream",
          "text": [
            "Requirement already satisfied: numpy in /usr/local/lib/python3.11/dist-packages (1.26.4)\n"
          ]
        }
      ],
      "source": [
        "!pip install numpy"
      ]
    },
    {
      "cell_type": "markdown",
      "metadata": {
        "id": "eqrxPWfnbLOD"
      },
      "source": [
        "Con este comando instalamos `numpy` en nuestro ambiente de `python`. A la hora de utilizar las funciones y métodos que este paquete tiene tenemos que hacer `import`."
      ]
    },
    {
      "cell_type": "code",
      "execution_count": null,
      "metadata": {
        "id": "_7VPy9rpa3T8"
      },
      "outputs": [],
      "source": [
        "import numpy"
      ]
    },
    {
      "cell_type": "markdown",
      "metadata": {
        "id": "HBNWiCFNbXmm"
      },
      "source": [
        "Este comando `import` hace que las funciones y métodos de `numpy` puedan ser usadas ahora por nosotros.\n",
        "Ahora si queremos usar alguna funcion de este paquete se debe realizar:\n",
        "`numpy.funcion`, donde funcion es la funcion que vamos a usar.\n",
        "\n",
        "Por ejemplo:\n"
      ]
    },
    {
      "cell_type": "code",
      "execution_count": null,
      "metadata": {
        "colab": {
          "base_uri": "https://localhost:8080/"
        },
        "id": "u32HRaaHbqls",
        "outputId": "bb7e1f7a-70d1-43c0-8e8d-8629d8f631ac"
      },
      "outputs": [
        {
          "name": "stdout",
          "output_type": "stream",
          "text": [
            "9.923076923076923\n"
          ]
        }
      ],
      "source": [
        "lista_1 = [1,2,4,5,67,8,8,9,9,7,5,3,1]\n",
        "print(numpy.mean(lista_1))"
      ]
    },
    {
      "cell_type": "markdown",
      "metadata": {
        "id": "PLS2ssPrbwBu"
      },
      "source": [
        "Con esto calculamos el promedio usando la funcion `mean()` que tiene `numpy`.\n",
        "\n",
        "Otra forma de importar funciones específicas es `from <paquete> import <funciones>`. Por ejemplo:"
      ]
    },
    {
      "cell_type": "code",
      "execution_count": null,
      "metadata": {
        "colab": {
          "base_uri": "https://localhost:8080/"
        },
        "id": "djulRt2qb6KS",
        "outputId": "97307273-035d-4c0a-d110-f44471378959"
      },
      "outputs": [
        {
          "name": "stdout",
          "output_type": "stream",
          "text": [
            "16.707720640293307\n"
          ]
        }
      ],
      "source": [
        "from numpy import std\n",
        "print(std(lista_1))"
      ]
    },
    {
      "cell_type": "markdown",
      "metadata": {
        "id": "0niKqYQGb_sp"
      },
      "source": [
        "Con esto no es necesario anteponer el `numpy.`. Y finalmente, podemos darle un apodo al paquete, si bien puede ser cualquiera que uno defina, `numpy` es usualmente definido como `np`.\n"
      ]
    },
    {
      "cell_type": "code",
      "execution_count": null,
      "metadata": {
        "colab": {
          "base_uri": "https://localhost:8080/"
        },
        "id": "GjbbvRtXcNp4",
        "outputId": "cc124cc5-02a4-42dd-9f32-9fd0a6dc6ee4"
      },
      "outputs": [
        {
          "name": "stdout",
          "output_type": "stream",
          "text": [
            "16.707720640293307\n",
            "9.923076923076923\n"
          ]
        }
      ],
      "source": [
        "import numpy as np\n",
        "print(np.std(lista_1))\n",
        "print(np.mean(lista_1))"
      ]
    },
    {
      "cell_type": "markdown",
      "metadata": {
        "id": "kHZbAeuCcQyZ"
      },
      "source": [
        "Y ahora `np` cumple el mismo rol que `numpy`."
      ]
    },
    {
      "cell_type": "markdown",
      "source": [
        "Hay que buscar la documentación de cada paquete para encontrar los detalles"
      ],
      "metadata": {
        "id": "LtwnlGaorxsA"
      }
    },
    {
      "cell_type": "markdown",
      "source": [
        "Tree regression -> Arbol de regresion se puede hacer en Python"
      ],
      "metadata": {
        "id": "LctR6icdtH7f"
      }
    },
    {
      "cell_type": "markdown",
      "metadata": {
        "id": "JcXGS86KcU0_"
      },
      "source": [
        "# Conclusión\n",
        "\n",
        "Si bien este tutorial fue corto y bastante rápido, `python` es un lenguage muy versátil y útil a la hora de trabajar en ciencia de datos o análisis experimental. Durante el curso iremos viendo, con mayor detenimiento, funciones y aplicaciones claves que les van a ayudar a la hora de poder diseñar, optimizar y analizar sus experimentls."
      ]
    }
  ],
  "metadata": {
    "colab": {
      "provenance": [],
      "toc_visible": true,
      "include_colab_link": true
    },
    "kernelspec": {
      "display_name": "Python 3",
      "name": "python3"
    },
    "language_info": {
      "name": "python"
    }
  },
  "nbformat": 4,
  "nbformat_minor": 0
}